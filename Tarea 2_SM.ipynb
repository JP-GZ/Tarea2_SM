{
 "cells": [
  {
   "cell_type": "markdown",
   "metadata": {},
   "source": [
    "# Tarea 2 \n"
   ]
  },
  {
   "cell_type": "markdown",
   "metadata": {},
   "source": [
    "### Resumen de la pagina <a href=\"https://www.economist.com/science-and-technology/2018/07/19/python-has-brought-computer-programming-to-a-vast-new-audience\" target=\"_blank\">The Economist</a> y <a href=\"https://www.zdnet.com/article/programming-language-of-the-year-python-is-standout-in-latest-rankings/\" target=\"_blank\">ZDnet</a>\n",
    "\n",
    "* La idea o la creacion de Python nacio de Guido van Rossum un informatico holandes iiritado por los lenguajes ya existentes debido a sus deficiencias sus principales motivos serian que fuera un lenguaje de facil entendimiento y de lectura , en segundo lugar sria permitir a los usuarios crear sus propios modulos de codificaion con proposito espacial y aun que no lo concidero relevante un nombre corto ya que la mayoria de los lenguajes ya tienen un nombre algo corto.\n",
    "* Como algo curioso su creador no pensaba que su lenguaje tubiera un aguaje tan grande ya que en los siguientes 12 meses de su creacion fue mas buscado Python que Kim Kardashian , desde ese momento Python a triplicado sus consultas de busqueda debido a que su creador cumplio con su objetivo de simplicidad y ser un progama de alto nivel.\n",
    "* En la siguiente pagina muestra en puntos porcentuales el crecimiento de Python en comparacion a los otros lenguajes segun los estadisticos Tiboe , explican la importancia que tiene Python para el estudio de las estadisticas , desarrolo en paginas web y en algun otro tipo de temas que se enseñan en las universidades.\n",
    " ![](https://i.blogs.es/8acda4/171/450_1000.jpg)\n"
   ]
  }
 ],
 "metadata": {
  "kernelspec": {
   "display_name": "Python 3",
   "language": "python",
   "name": "python3"
  },
  "language_info": {
   "codemirror_mode": {
    "name": "ipython",
    "version": 3
   },
   "file_extension": ".py",
   "mimetype": "text/x-python",
   "name": "python",
   "nbconvert_exporter": "python",
   "pygments_lexer": "ipython3",
   "version": "3.7.4"
  }
 },
 "nbformat": 4,
 "nbformat_minor": 2
}
